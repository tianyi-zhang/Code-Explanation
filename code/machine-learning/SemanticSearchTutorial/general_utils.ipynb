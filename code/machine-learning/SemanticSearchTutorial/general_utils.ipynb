{
 "cells": [
  {
   "cell_type": "code",
   "execution_count": 1,
   "metadata": {
    "collapsed": true
   },
   "outputs": [],
   "source": [
    "from pathlib import Path\n",
    "import logging\n",
    "import wget\n",
    "import pickle\n",
    "from typing import List, Callable, Union, Any\n",
    "from more_itertools import chunked\n",
    "from itertools import chain\n",
    "import nmslib\n",
    "from pathos.multiprocessing import Pool, cpu_count\n",
    "from math import ceil"
   ]
  },
  {
   "cell_type": "code",
   "execution_count": 2,
   "metadata": {
    "collapsed": true
   },
   "outputs": [],
   "source": [
    "def apply_parallel(func: Callable, data: List[Any], cpu_cores: int=None) -> List[Any]:\n",
    "    if not cpu_cores:\n",
    "        cpu_cores = cpu_count()\n",
    "    try: \n",
    "        chunk_size = ceil(len(data) / cpu_cores)\n",
    "        print(chunk_size)\n",
    "        pool = Pool(cpu_cores)\n",
    "        print(\"pool\")\n",
    "        chunks = chunked(data, chunk_size)\n",
    "        print(\"was chunked\")\n",
    "        transformed_data = map(func, data)#chunks, chunksize=1)\n",
    "        print(type(transformed_data))\n",
    "        print(\"data was transformed\")\n",
    "    finally: \n",
    "        pool.close()\n",
    "        pool.join()\n",
    "        print(\"finished apply_parallel\")\n",
    "        return transformed_data"
   ]
  },
  {
   "cell_type": "code",
   "execution_count": 3,
   "metadata": {
    "collapsed": true
   },
   "outputs": [],
   "source": [
    "def flattenlist(listoflists: List[List[Any]]):\n",
    "    return list(chain.from_iterable(listoflists))"
   ]
  }
 ],
 "metadata": {
  "kernelspec": {
   "display_name": "Python 3",
   "language": "python",
   "name": "python3"
  },
  "language_info": {
   "codemirror_mode": {
    "name": "ipython",
    "version": 3
   },
   "file_extension": ".py",
   "mimetype": "text/x-python",
   "name": "python",
   "nbconvert_exporter": "python",
   "pygments_lexer": "ipython3",
   "version": "3.6.1"
  }
 },
 "nbformat": 4,
 "nbformat_minor": 2
}
